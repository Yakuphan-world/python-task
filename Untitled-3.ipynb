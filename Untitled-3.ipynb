{
 "cells": [
  {
   "cell_type": "code",
   "execution_count": null,
   "metadata": {},
   "outputs": [],
   "source": [
    "\"\"\"Task-24: Kesirli (gerçel) sayılardan oluşan bir liste üreten float_range(start,stop,step) isimli bir fonksiyonu yazınız.\n",
    "Örneğin;\n",
    "float_range(0,10,0.5) fonksiyonu çağrıldığında programın çıktı olarak\n",
    "[0.0, 0.5, 1.0, 1.5, 2.0, 2.5, 3.0, 3.5, 4.0, 4.5, 5.0, 5.5, 6.0, 6.5, 7.0, 7.5, 8.0, 8.5, 9.0, 9.5]\n",
    "değerlerini üretmesi gerekir.\"\"\""
   ]
  },
  {
   "cell_type": "code",
   "execution_count": null,
   "metadata": {},
   "outputs": [],
   "source": [
    "def float_range (start ,stop , step):\n",
    "      \"\"\"start baslangic degeri stop durdugumuz deger ,step de artirma ya da azalma degeri olarak aliyoruz. \"\"\"\n",
    "      listem=[]\n",
    "      while stop != start :\n",
    "            start=float(start)\n",
    "            listem.append(start)\n",
    "            start+= step\n",
    "            if start==stop==0:\n",
    "                  return 0\n",
    "      return listem\n",
    "# deneyelim\n",
    "print(float_range(20,7,-0.5))\n",
    "\n"
   ]
  }
 ],
 "metadata": {
  "language_info": {
   "name": "python"
  },
  "orig_nbformat": 4
 },
 "nbformat": 4,
 "nbformat_minor": 2
}
