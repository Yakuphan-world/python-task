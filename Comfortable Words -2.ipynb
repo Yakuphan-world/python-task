{
 "cells": [
  {
   "cell_type": "code",
   "execution_count": 1,
   "metadata": {},
   "outputs": [
    {
     "name": "stdout",
     "output_type": "stream",
     "text": [
      "Kein Komfortables Wort\n"
     ]
    }
   ],
   "source": [
    "wort = list(input(\"Bitte geben Sie ein Wort ein\").lower())\n",
    "left = list(\"qwertasdfgzxcvb\")\n",
    "reight = list(\"yuiophjklöänm\")\n",
    "R = L = False\n",
    "\n",
    "for i in range(len(wort)):\n",
    "    if wort[i] in left:\n",
    "        L = True\n",
    "    elif wort[i] in reight:\n",
    "        R = True\n",
    "if R == L:\n",
    "    print(\"Komfortables Wort\")\n",
    "else:\n",
    "    print(\"Kein Komfortables Wort\")\n",
    "\n",
    "\n"
   ]
  },
  {
   "cell_type": "code",
   "execution_count": null,
   "metadata": {},
   "outputs": [],
   "source": [
    "wort = input(\"Bitte geben Sie ein Wort ein\").lower()\n",
    "left = \"qwertasdfgzxcvb\"\n",
    "reight = \"yuiophjklöänm\"\n",
    "R = L = False\n",
    "\n",
    "for i in wort:\n",
    "    if i in left:\n",
    "        L = True\n",
    "    elif i in reight:\n",
    "        R = True\n",
    "\n",
    "print(L and R and \"Komfortables Wort\" or \"Kein Komfortables Wort\")"
   ]
  }
 ],
 "metadata": {
  "kernelspec": {
   "display_name": "Python 3.10.7 64-bit",
   "language": "python",
   "name": "python3"
  },
  "language_info": {
   "codemirror_mode": {
    "name": "ipython",
    "version": 3
   },
   "file_extension": ".py",
   "mimetype": "text/x-python",
   "name": "python",
   "nbconvert_exporter": "python",
   "pygments_lexer": "ipython3",
   "version": "3.10.7"
  },
  "orig_nbformat": 4,
  "vscode": {
   "interpreter": {
    "hash": "aee8b7b246df8f9039afb4144a1f6fd8d2ca17a180786b69acc140d282b71a49"
   }
  }
 },
 "nbformat": 4,
 "nbformat_minor": 2
}
